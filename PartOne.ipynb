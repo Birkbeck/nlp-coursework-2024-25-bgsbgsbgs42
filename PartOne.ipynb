{
 "cells": [
  {
   "cell_type": "code",
   "execution_count": 1,
   "id": "3678e3d1",
   "metadata": {},
   "outputs": [
    {
     "ename": "ModuleNotFoundError",
     "evalue": "No module named 'nltk'",
     "output_type": "error",
     "traceback": [
      "\u001b[31m---------------------------------------------------------------------------\u001b[39m",
      "\u001b[31mModuleNotFoundError\u001b[39m                       Traceback (most recent call last)",
      "\u001b[36mCell\u001b[39m\u001b[36m \u001b[39m\u001b[32mIn[1]\u001b[39m\u001b[32m, line 1\u001b[39m\n\u001b[32m----> \u001b[39m\u001b[32m1\u001b[39m \u001b[38;5;28;01mimport\u001b[39;00m\u001b[38;5;250m \u001b[39m\u001b[34;01mnltk\u001b[39;00m\n\u001b[32m      2\u001b[39m \u001b[38;5;28;01mimport\u001b[39;00m\u001b[38;5;250m \u001b[39m\u001b[34;01mspacy\u001b[39;00m\n\u001b[32m      3\u001b[39m \u001b[38;5;28;01mfrom\u001b[39;00m\u001b[38;5;250m \u001b[39m\u001b[34;01mpathlib\u001b[39;00m\u001b[38;5;250m \u001b[39m\u001b[38;5;28;01mimport\u001b[39;00m Path\n",
      "\u001b[31mModuleNotFoundError\u001b[39m: No module named 'nltk'"
     ]
    }
   ],
   "source": [
    "import nltk\n",
    "import spacy\n",
    "from pathlib import Path\n",
    "import os\n",
    "\n",
    "nlp = spacy.load(\"en_core_web_sm\")\n",
    "nlp.max_length = 2000000"
   ]
  },
  {
   "cell_type": "code",
   "execution_count": null,
   "id": "8bc6c2a5",
   "metadata": {},
   "outputs": [],
   "source": [
    "#Import dependencies \n",
    "from nltk.corpus import cmudict\n",
    "\n",
    "d = cmudict.dict() \n",
    "\n",
    "# Download required NLTK data\n",
    "nltk.download('punkt')\n",
    "nltk.download('cmudict')\n",
    "\n",
    "def fk_level(text, d):\n",
    "    \"\"\"Returns the Flesch-Kincaid Grade Level of a text (higher grade is more difficult).\n",
    "    Requires a dictionary of syllables per word.\n",
    "\n",
    "    Args:\n",
    "        text (str): The text to analyze.\n",
    "        d (dict): A dictionary of syllables per word.\n",
    "\n",
    "    Returns:\n",
    "        float: The Flesch-Kincaid Grade Level of the text. (higher grade is more difficult)\n",
    "    \"\"\"\n",
    "    # Tokenise sentences and words\n",
    "    sentences = nltk.sent_tokenize(text)\n",
    "    words = [word.lower() for word in nltk.word_tokenize(text) if word.isalpha()]\n",
    "    \n",
    "    # Calculate basic counts\n",
    "    total_sentences = len(sentences)\n",
    "    total_words = len(words)\n",
    "    total_syllables = 0\n",
    "    \n",
    "    # Calculate total syllables using CMU dict and fallback method\n",
    "    for word in words:\n",
    "        # Try to get syllable count from CMU dictionary first\n",
    "        if word in d:\n",
    "            # Get syllable count from CMU dictionary (count stress markers) - first pronunciation variant\n",
    "            pronunciation = d[word][0]\n",
    "            syllables = sum(1 for phoneme in pronunciation if phoneme[-1].isdigit())\n",
    "            total_syllables += syllables\n",
    "        else:\n",
    "            # Fallback syllable counting for words not in CMU dict\n",
    "            vowels = \"aeiouy\"\n",
    "            syllable_count = 0\n",
    "            prev_char_was_vowel = False\n",
    "            \n",
    "        # Count vowel clusters\n",
    "            for char in word:\n",
    "                if char in vowels:\n",
    "                    if not prev_char_was_vowel:\n",
    "                        syllable_count += 1\n",
    "                    prev_char_was_vowel = True\n",
    "                else:\n",
    "                    prev_char_was_vowel = False\n",
    "            \n",
    "            # Adjust for silent e at end\n",
    "            if word.endswith('e') and syllable_count > 1:\n",
    "                syllable_count -= 1\n",
    "            \n",
    "            # Ensure at least one syllable\n",
    "            syllable_count = max(1, syllable_count)\n",
    "            total_syllables += syllable_count\n",
    "            \n",
    "    # Calculate Flesch-Kincaid Grade Level\n",
    "    if total_sentences == 0 or total_words == 0:\n",
    "        return 0.0  # Avoid division by zero errors\n",
    "\n",
    "    avg_words_per_sentence = total_words / total_sentences\n",
    "    avg_syllables_per_word = total_syllables / total_words\n",
    "    \n",
    "    fk_score = (0.39 * avg_words_per_sentence) + (11.8 * avg_syllables_per_word) - 15.59\n",
    "    return fk_score\n"
   ]
  }
 ],
 "metadata": {
  "kernelspec": {
   "display_name": ".venv",
   "language": "python",
   "name": "python3"
  },
  "language_info": {
   "codemirror_mode": {
    "name": "ipython",
    "version": 3
   },
   "file_extension": ".py",
   "mimetype": "text/x-python",
   "name": "python",
   "nbconvert_exporter": "python",
   "pygments_lexer": "ipython3",
   "version": "3.12.10"
  }
 },
 "nbformat": 4,
 "nbformat_minor": 5
}
