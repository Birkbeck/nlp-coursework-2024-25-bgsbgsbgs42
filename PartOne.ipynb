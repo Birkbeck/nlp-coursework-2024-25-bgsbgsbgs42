{
 "cells": [
  {
   "cell_type": "code",
   "execution_count": null,
   "id": "3678e3d1",
   "metadata": {
    "vscode": {
     "languageId": "plaintext"
    }
   },
   "outputs": [],
   "source": [
    "import nltk\n",
    "import spacy\n",
    "from pathlib import Path\n",
    "import os\n",
    "\n",
    "nlp = spacy.load(\"en_core_web_sm\")\n",
    "nlp.max_length = 2000000"
   ]
  },
  {
   "cell_type": "code",
   "execution_count": null,
   "id": "8bc6c2a5",
   "metadata": {
    "vscode": {
     "languageId": "plaintext"
    }
   },
   "outputs": [],
   "source": [
    "#Import dependencies \n",
    "from nltk.corpus import cmudict\n",
    "\n",
    "d = cmudict.dict() \n",
    "\n",
    "# Download required NLTK data\n",
    "nltk.download('punkt')\n",
    "nltk.download('cmudict')\n",
    "\n",
    "def fk_level(text, d):\n",
    "    \"\"\"Returns the Flesch-Kincaid Grade Level of a text (higher grade is more difficult).\n",
    "    Requires a dictionary of syllables per word.\n",
    "\n",
    "    Args:\n",
    "        text (str): The text to analyze.\n",
    "        d (dict): A dictionary of syllables per word.\n",
    "\n",
    "    Returns:\n",
    "        float: The Flesch-Kincaid Grade Level of the text. (higher grade is more difficult)\n",
    "    \"\"\"\n",
    "    # Tokenise sentences and words\n",
    "    sentences = nltk.sent_tokenize(text)\n",
    "    words = [word.lower() for word in nltk.word_tokenize(text) if word.isalpha()]\n",
    "    \n",
    "    # Calculate basic counts\n",
    "    total_sentences = len(sentences)\n",
    "    total_words = len(words)\n",
    "    total_syllables = 0\n",
    "    \n",
    "    # Calculate total syllables using CMU dict and fallback method\n",
    "    for word in words:\n",
    "        # Try to get syllable count from CMU dictionary first\n",
    "        if word in d:\n",
    "            # Get syllable count from CMU dictionary (count stress markers) - first pronunciation variant\n",
    "            pronunciation = d[word][0]\n",
    "            syllables = sum(1 for phoneme in pronunciation if phoneme[-1].isdigit())\n",
    "            total_syllables += syllables\n",
    "        else:\n",
    "            # Fallback syllable counting for words not in CMU dict\n",
    "            vowels = \"aeiouy\"\n",
    "            syllable_count = 0\n",
    "            prev_char_was_vowel = False\n",
    "            \n",
    "        # Count vowel clusters\n",
    "            for char in word:\n",
    "                if char in vowels:\n",
    "                    if not prev_char_was_vowel:\n",
    "                        syllable_count += 1\n",
    "                    prev_char_was_vowel = True\n",
    "                else:\n",
    "                    prev_char_was_vowel = False\n",
    "            \n",
    "            # Adjust for silent e at end\n",
    "            if word.endswith('e') and syllable_count > 1:\n",
    "                syllable_count -= 1\n",
    "            \n",
    "            # Ensure at least one syllable\n",
    "            syllable_count = max(1, syllable_count)\n",
    "            total_syllables += syllable_count\n",
    "            \n",
    "    # Calculate Flesch-Kincaid Grade Level\n",
    "    if total_sentences == 0 or total_words == 0:\n",
    "        return 0.0  # Avoid division by zero errors\n",
    "\n",
    "    avg_words_per_sentence = total_words / total_sentences\n",
    "    avg_syllables_per_word = total_syllables / total_words\n",
    "    \n",
    "    fk_score = (0.39 * avg_words_per_sentence) + (11.8 * avg_syllables_per_word) - 15.59\n",
    "    return fk_score\n"
   ]
  }
 ],
 "metadata": {
  "language_info": {
   "name": "python"
  }
 },
 "nbformat": 4,
 "nbformat_minor": 5
}
